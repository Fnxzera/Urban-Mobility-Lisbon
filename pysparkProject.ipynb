{
  "cells": [
    {
      "cell_type": "markdown",
      "metadata": {
        "id": "view-in-github",
        "colab_type": "text"
      },
      "source": [
        "<a href=\"https://colab.research.google.com/github/Fnxzera/Urban-Mobility-Lisbon/blob/main/pysparkProject.ipynb\" target=\"_parent\"><img src=\"https://colab.research.google.com/assets/colab-badge.svg\" alt=\"Open In Colab\"/></a>"
      ]
    },
    {
      "cell_type": "code",
      "execution_count": null,
      "id": "3975fcc4-841e-4af3-959c-008cd4a94b42",
      "metadata": {
        "id": "3975fcc4-841e-4af3-959c-008cd4a94b42"
      },
      "outputs": [],
      "source": [
        "from pyspark.sql import SparkSession\n",
        "from pyspark.sql.functions import *\n",
        "from pyspark.sql.types import *"
      ]
    },
    {
      "cell_type": "code",
      "execution_count": null,
      "id": "c03c2118-644c-4336-964a-5dfdb5800779",
      "metadata": {
        "id": "c03c2118-644c-4336-964a-5dfdb5800779"
      },
      "outputs": [],
      "source": [
        "spark = SparkSession.builder \\\n",
        "    .appName(\"UrbanMobility\") \\\n",
        "    .getOrCreate()\n"
      ]
    },
    {
      "cell_type": "code",
      "execution_count": null,
      "id": "4274f387-24d7-4aae-bad7-1e7c93897ba4",
      "metadata": {
        "id": "4274f387-24d7-4aae-bad7-1e7c93897ba4"
      },
      "outputs": [],
      "source": [
        "df = spark.read.csv('Urban_Mobility/infoLisbon.csv',header=True,inferSchema=True)"
      ]
    },
    {
      "cell_type": "code",
      "execution_count": null,
      "id": "808ace3a-31f5-4629-8107-b6ba5498e3f4",
      "metadata": {
        "id": "808ace3a-31f5-4629-8107-b6ba5498e3f4"
      },
      "outputs": [],
      "source": [
        "df = df.withColumn(('Data_Inicio'),substring('periodos_condicionamentos',45, 10))\n",
        "df = df.withColumn(('Data_Termino'),substring('periodos_condicionamentos',-68, 10))\n",
        "df = df.withColumn(\"Data_Inicio\", to_date(\"Data_Inicio\"))\n",
        "df = df.withColumn(\"Duração\" , df['Data_Termino']-df['Data_Inicio'])"
      ]
    },
    {
      "cell_type": "code",
      "execution_count": null,
      "id": "c4f6b823-1cad-4472-bdb0-77b39d2b9611",
      "metadata": {
        "id": "c4f6b823-1cad-4472-bdb0-77b39d2b9611"
      },
      "outputs": [],
      "source": [
        "df = df.drop('position','entity_id','periodos_condicionamentos')"
      ]
    },
    {
      "cell_type": "code",
      "execution_count": null,
      "id": "ab578036-2780-4ca4-8ca1-1913eccb938c",
      "metadata": {
        "id": "ab578036-2780-4ca4-8ca1-1913eccb938c"
      },
      "outputs": [],
      "source": [
        "values_to_fill = {'Duração': 0, 'Data_Termino': '2000-01-01','Data_Inicio':'2000-01-01','creation_date':'2000-01-01',\n",
        "                 'motivo':'desconhecido','morada':'desconhecida','restricao_circulacao':'desconhecido','impacto':'desconhecido',\n",
        "                 }\n",
        "df = df.na.fill(values_to_fill)"
      ]
    },
    {
      "cell_type": "code",
      "execution_count": null,
      "id": "dae6b698-47eb-4c22-a0fc-74da34f3a098",
      "metadata": {
        "id": "dae6b698-47eb-4c22-a0fc-74da34f3a098"
      },
      "outputs": [],
      "source": [
        "valores_possiveis = ['Relevante', 'Pouco Relevante']\n",
        "df_filtrado = df.filter((col('impacto')== 'Relevante') | (col('impacto')== 'Pouco relevante'))"
      ]
    },
    {
      "cell_type": "code",
      "execution_count": null,
      "id": "a009e8cc-98d0-4a1c-8090-2142462cac21",
      "metadata": {
        "id": "a009e8cc-98d0-4a1c-8090-2142462cac21"
      },
      "outputs": [],
      "source": [
        "contagem_morada = df_filtrado.groupBy('morada').agg(count('motivo').alias('Quantidade'))  # Conta as ocorrências em cada morada\n",
        "contagem_Duração = df_filtrado.groupBy('Duração').agg(count('Duração').alias('Quantidade')) # Conta as ocorrências para cada duração\n",
        "contagem_impacto = df_filtrado.groupBy('impacto').agg(count('impacto').alias('Quantidade')) # Conta as ocorrências para cada impacto (Relev e Pouco Rev)\n",
        "DMorada = df_filtrado.groupBy(\"morada\").agg(avg(\"Duração\").alias(\"Duração Média\")) # Mostra a duração média para cada morada\n",
        "DRestricao = df_filtrado.groupBy(\"restricao_circulacao\").agg(avg(\"Duração\").alias(\"Duração Média\")) # Mostra a duração média para cada restrição\n",
        "DMotivo = df_filtrado.groupBy(\"motivo\").agg(avg(\"Duração\").alias(\"Duração Média\")) # Mostra a duração média para cada motivo"
      ]
    },
    {
      "cell_type": "code",
      "execution_count": null,
      "id": "7757cce1-e2fd-4607-ba61-07631632d8a1",
      "metadata": {
        "id": "7757cce1-e2fd-4607-ba61-07631632d8a1",
        "outputId": "33d48070-9b6e-40b4-aad4-fe35cba6c0bb"
      },
      "outputs": [
        {
          "name": "stdout",
          "output_type": "stream",
          "text": [
            "+--------------------+----------+\n",
            "|              motivo|Quantidade|\n",
            "+--------------------+----------+\n",
            "|CARGAS E DESCARGA...|      1812|\n",
            "|BETONAGENS/CARGAS...|      1119|\n",
            "|OBRA - FAIXA DE R...|       890|\n",
            "|            PINTURAS|       796|\n",
            "|           FILMAGENS|       580|\n",
            "|            MUDANÇAS|       564|\n",
            "|OBRA - PASSEIO E ...|       506|\n",
            "|  CARGAS E DESCARGAS|       491|\n",
            "|        CONCENTRAÇÃO|       358|\n",
            "|            AUTOGRUA|       327|\n",
            "|PLANTAÇÃO / PODA ...|       310|\n",
            "|        desconhecido|       283|\n",
            "|RESERVA DE ESTACI...|       231|\n",
            "|          BETONAGENS|       224|\n",
            "|ACESSO DE VEÍCULO...|       198|\n",
            "|LIGAÇÃO DE RAMAL ...|       183|\n",
            "|        MANIFESTAÇÃO|       134|\n",
            "|LIGAÇÃO DE RAMAL ...|       126|\n",
            "|     REPAVIMENTAÇÕES|        80|\n",
            "|              EVENTO|        78|\n",
            "|SUBSTITUIÇÃO DE C...|        71|\n",
            "|OBRAS NO SUBSOLO ...|        70|\n",
            "|    MONTAGEM DE GRUA|        63|\n",
            "|REP. DE COLECTOR/...|        48|\n",
            "| DESMONTAGEM DE GRUA|        47|\n",
            "+--------------------+----------+\n",
            "only showing top 25 rows\n",
            "\n"
          ]
        }
      ],
      "source": [
        "contagem_motivo.orderBy(desc(\"Quantidade\")).show(25)"
      ]
    },
    {
      "cell_type": "code",
      "execution_count": null,
      "id": "8dd18ebc-6d1f-42fb-94ae-7ae5f5229f03",
      "metadata": {
        "id": "8dd18ebc-6d1f-42fb-94ae-7ae5f5229f03",
        "outputId": "2190e751-812c-413e-cdbe-6c0c215b43f6"
      },
      "outputs": [
        {
          "name": "stdout",
          "output_type": "stream",
          "text": [
            "+--------------------+----------+\n",
            "|              morada|Quantidade|\n",
            "+--------------------+----------+\n",
            "|Praça Marechal Hu...|         7|\n",
            "|  Praça Dom Pedro IV|         9|\n",
            "|Rua dos Lusiadas,...|        18|\n",
            "|Rua Almirante Bar...|         2|\n",
            "|Rua do Guarda Mor...|         2|\n",
            "|Calçada das Neces...|         4|\n",
            "|Rua Carlos José b...|         1|\n",
            "|Estrada da Correi...|         1|\n",
            "|Rua Senhora da Gl...|         1|\n",
            "| Rua São Paulo,14-16|         1|\n",
            "|Rua Doutor Teófil...|         1|\n",
            "|Rua das Portas de...|         1|\n",
            "|Praça Luis de Camões|         1|\n",
            "|Rua Cortes Reais,...|         1|\n",
            "|Avenida Fernando ...|         4|\n",
            "|   Bairro Padre Cruz|         1|\n",
            "|Rua Filipe Folque,65|         1|\n",
            "|Praça das Amoreir...|         2|\n",
            "|Avenida 24 de Jul...|         1|\n",
            "|        Eixo Central|         1|\n",
            "|Av. Gen. Norton M...|         1|\n",
            "|Rua Eduardo Malta...|         1|\n",
            "|Rua Almeida Brand...|         2|\n",
            "|Estação Fluvial- ...|         1|\n",
            "|Rua das Escolas G...|         1|\n",
            "+--------------------+----------+\n",
            "only showing top 25 rows\n",
            "\n"
          ]
        }
      ],
      "source": [
        "contagem_morada.show(25)"
      ]
    },
    {
      "cell_type": "code",
      "execution_count": null,
      "id": "2fad185b-dd00-4d1c-9dbc-cb99787658dc",
      "metadata": {
        "id": "2fad185b-dd00-4d1c-9dbc-cb99787658dc",
        "outputId": "afffe6a0-df40-46dc-c680-7cbb4bad6caa"
      },
      "outputs": [
        {
          "name": "stdout",
          "output_type": "stream",
          "text": [
            "+-----------------+----------+\n",
            "|          Duração|Quantidade|\n",
            "+-----------------+----------+\n",
            "| INTERVAL '0' DAY|      2355|\n",
            "|INTERVAL '14' DAY|      1622|\n",
            "|INTERVAL '13' DAY|      1166|\n",
            "| INTERVAL '1' DAY|       801|\n",
            "|INTERVAL '11' DAY|       645|\n",
            "| INTERVAL '4' DAY|       385|\n",
            "| INTERVAL '2' DAY|       353|\n",
            "|INTERVAL '15' DAY|       241|\n",
            "| INTERVAL '3' DAY|       182|\n",
            "|INTERVAL '18' DAY|       174|\n",
            "| INTERVAL '9' DAY|       169|\n",
            "| INTERVAL '6' DAY|       155|\n",
            "|INTERVAL '12' DAY|       133|\n",
            "|INTERVAL '10' DAY|       120|\n",
            "| INTERVAL '5' DAY|       100|\n",
            "|INTERVAL '16' DAY|        87|\n",
            "| INTERVAL '7' DAY|        83|\n",
            "| INTERVAL '8' DAY|        77|\n",
            "|INTERVAL '31' DAY|        67|\n",
            "|INTERVAL '25' DAY|        62|\n",
            "|INTERVAL '17' DAY|        44|\n",
            "|INTERVAL '29' DAY|        39|\n",
            "|INTERVAL '39' DAY|        38|\n",
            "|INTERVAL '30' DAY|        36|\n",
            "|INTERVAL '28' DAY|        35|\n",
            "+-----------------+----------+\n",
            "only showing top 25 rows\n",
            "\n"
          ]
        }
      ],
      "source": [
        "contagem_Duração.orderBy(desc(\"Quantidade\")).show(25)"
      ]
    },
    {
      "cell_type": "code",
      "execution_count": null,
      "id": "ab77c750-b023-4611-bd27-1886e7da9011",
      "metadata": {
        "id": "ab77c750-b023-4611-bd27-1886e7da9011",
        "outputId": "13c82e17-f81f-4b91-f7bb-b3ecab0da2eb"
      },
      "outputs": [
        {
          "name": "stdout",
          "output_type": "stream",
          "text": [
            "+---------------+----------+\n",
            "|        impacto|Quantidade|\n",
            "+---------------+----------+\n",
            "|      Relevante|      6907|\n",
            "|Pouco relevante|      2842|\n",
            "+---------------+----------+\n",
            "\n"
          ]
        }
      ],
      "source": [
        "contagem_impacto.orderBy(desc(\"Quantidade\")).show(25)"
      ]
    },
    {
      "cell_type": "code",
      "execution_count": null,
      "id": "7f876b09-a8a7-4ca5-9188-5a69a24dfeec",
      "metadata": {
        "id": "7f876b09-a8a7-4ca5-9188-5a69a24dfeec",
        "outputId": "7736dda4-5550-4e23-89a7-c27b38e7a256"
      },
      "outputs": [
        {
          "name": "stdout",
          "output_type": "stream",
          "text": [
            "+---------------------------------------+-------------------------------------------+\n",
            "|motivo                                 |Duração Média                              |\n",
            "+---------------------------------------+-------------------------------------------+\n",
            "|CARGAS E DESCARGAS/OBRAS               |INTERVAL '14 22:46:05.562914' DAY TO SECOND|\n",
            "|DESMONTAGEM DE GRUA                    |INTERVAL '0 14:17:52.340426' DAY TO SECOND |\n",
            "|PINTURAS                               |INTERVAL '12 16:38:35.577889' DAY TO SECOND|\n",
            "|REPAVIMENTAÇÕES                        |INTERVAL '11 18:00:00' DAY TO SECOND       |\n",
            "|desconhecido                           |INTERVAL '0 00:00:00' DAY TO SECOND        |\n",
            "|REPARAÇÃO DE GUARDAS/JUNTAS            |INTERVAL '2 18:00:00' DAY TO SECOND        |\n",
            "|CARGAS E DESCARGAS                     |INTERVAL '22 02:41:18.207739' DAY TO SECOND|\n",
            "|LIGAÇÃO DE RAMAL - FAIXA DE RODAGEM    |INTERVAL '12 14:25:34.42623' DAY TO SECOND |\n",
            "|MUDANÇAS                               |INTERVAL '1 19:37:01.276596' DAY TO SECOND |\n",
            "|DESFILE                                |INTERVAL '0 03:00:00' DAY TO SECOND        |\n",
            "|ILUMINAÇÃO PÚBLICA                     |INTERVAL '3 04:48:00' DAY TO SECOND        |\n",
            "|INSP. COLECTORES - PASSEIO E ESTACION. |INTERVAL '11 00:00:00' DAY TO SECOND       |\n",
            "|MONTAGEM DE GRUA                       |INTERVAL '3 14:51:25.714286' DAY TO SECOND |\n",
            "|BETONAGENS                             |INTERVAL '9 11:40:42.857143' DAY TO SECOND |\n",
            "|PROCISSÃO                              |INTERVAL '0 00:00:00' DAY TO SECOND        |\n",
            "|OBRA - FAIXA DE RODAGEM                |INTERVAL '24 11:04:59.325843' DAY TO SECOND|\n",
            "|MANIFESTAÇÃO                           |INTERVAL '0 01:15:13.432836' DAY TO SECOND |\n",
            "|FILMAGENS                              |INTERVAL '1 08:41:22.758621' DAY TO SECOND |\n",
            "|SONDAGENS - FAIXA DE RODAGEM           |INTERVAL '11 02:05:13.043478' DAY TO SECOND|\n",
            "|BETONAGENS/CARGAS DESCARGAS            |INTERVAL '13 03:09:10.134048' DAY TO SECOND|\n",
            "|LIGAÇÃO DE RAMAL - PASSEIO E ESTACION. |INTERVAL '9 21:54:17.142857' DAY TO SECOND |\n",
            "|OBRAS NO SUBSOLO - PASSEIO E ESTACION. |INTERVAL '46 10:44:12.631579' DAY TO SECOND|\n",
            "|SUBSTITUIÇÃO DE CAIXA MULTIBANCO       |INTERVAL '0 02:01:41.408451' DAY TO SECOND |\n",
            "|CORRIDA                                |INTERVAL '0 04:00:00' DAY TO SECOND        |\n",
            "|ACESSO DE VEÍCULOS À OBRA              |INTERVAL '17 04:00:00' DAY TO SECOND       |\n",
            "|CAMINHADA                              |INTERVAL '0 00:00:00' DAY TO SECOND        |\n",
            "|PLANTAÇÃO / PODA DE ÁRVORES            |INTERVAL '6 20:17:01.935484' DAY TO SECOND |\n",
            "|OBRA - PASSEIO E ESTACION.             |INTERVAL '21 13:48:08.537549' DAY TO SECOND|\n",
            "|VIGILIA                                |INTERVAL '0 03:25:42.857143' DAY TO SECOND |\n",
            "|INSPECÇÃO COLECTORES - FAIXA DE RODAGEM|INTERVAL '5 00:00:00' DAY TO SECOND        |\n",
            "+---------------------------------------+-------------------------------------------+\n",
            "only showing top 30 rows\n",
            "\n"
          ]
        }
      ],
      "source": [
        "DMotivo.show(30, truncate = False)"
      ]
    },
    {
      "cell_type": "code",
      "execution_count": null,
      "id": "d4422b26-bc92-41f7-b9b9-1fc8a3c26ded",
      "metadata": {
        "id": "d4422b26-bc92-41f7-b9b9-1fc8a3c26ded",
        "outputId": "b93d8d27-144a-4665-c6c9-ba2b6ec045a2"
      },
      "outputs": [
        {
          "name": "stdout",
          "output_type": "stream",
          "text": [
            "+--------------------+-------------------------------------------+\n",
            "|restricao_circulacao|Duração Média                              |\n",
            "+--------------------+-------------------------------------------+\n",
            "|Corte total         |INTERVAL '9 15:43:12.686804' DAY TO SECOND |\n",
            "|Mantém perfil de via|INTERVAL '15 05:31:56.652994' DAY TO SECOND|\n",
            "|Estacionamento      |INTERVAL '11 20:37:43.366337' DAY TO SECOND|\n",
            "|Corte num sentido   |INTERVAL '10 00:00:00' DAY TO SECOND       |\n",
            "|Cortes temporários  |INTERVAL '9 07:50:31.238779' DAY TO SECOND |\n",
            "|Estreitamento de via|INTERVAL '14 00:14:16.023418' DAY TO SECOND|\n",
            "|Passeio             |INTERVAL '8 13:50:51.539708' DAY TO SECOND |\n",
            "+--------------------+-------------------------------------------+\n",
            "\n"
          ]
        }
      ],
      "source": [
        "DRestricao.show(30, truncate = False)"
      ]
    },
    {
      "cell_type": "code",
      "execution_count": null,
      "id": "9ec6c501-368f-49a4-b7c8-76cc1054eaf2",
      "metadata": {
        "id": "9ec6c501-368f-49a4-b7c8-76cc1054eaf2",
        "outputId": "c8e89dd5-2dc4-48ab-a702-f82cc5422bc8"
      },
      "outputs": [
        {
          "name": "stdout",
          "output_type": "stream",
          "text": [
            "+---------------------------------------------------------------------------------------------------+-------------------------------------------+\n",
            "|morada                                                                                             |Duração Média                              |\n",
            "+---------------------------------------------------------------------------------------------------+-------------------------------------------+\n",
            "|Praça Marechal Humberto Delgado                                                                    |INTERVAL '17 17:08:34.285714' DAY TO SECOND|\n",
            "|Praça Dom Pedro IV                                                                                 |INTERVAL '2 16:00:00' DAY TO SECOND        |\n",
            "|Rua dos Lusiadas, nº 29                                                                            |INTERVAL '11 10:40:00' DAY TO SECOND       |\n",
            "|Rua Almirante Barroso, 18                                                                          |INTERVAL '13 12:00:00' DAY TO SECOND       |\n",
            "|Rua do Guarda Mor, nº 60-66                                                                        |INTERVAL '13 12:00:00' DAY TO SECOND       |\n",
            "|Calçada das Necessidades, nº 10                                                                    |INTERVAL '14 06:00:00' DAY TO SECOND       |\n",
            "|Rua Carlos José barreiros                                                                          |INTERVAL '25 00:00:00' DAY TO SECOND       |\n",
            "|Estrada da Correia/Estrada Militar/Avenida Dr. Mário Soares                                        |INTERVAL '48 00:00:00' DAY TO SECOND       |\n",
            "|Rua Senhora da Glória, nº 116-119-B                                                                |INTERVAL '1 00:00:00' DAY TO SECOND        |\n",
            "|Rua São Paulo,14-16                                                                                |INTERVAL '0 00:00:00' DAY TO SECOND        |\n",
            "|Rua Doutor Teófilo Braga,8-10                                                                      |INTERVAL '11 00:00:00' DAY TO SECOND       |\n",
            "|Rua das Portas de Santo Antão, junto ao nº.58                                                      |INTERVAL '0 00:00:00' DAY TO SECOND        |\n",
            "|Praça Luis de Camões                                                                               |INTERVAL '0 00:00:00' DAY TO SECOND        |\n",
            "|Rua Cortes Reais, nº 1                                                                             |INTERVAL '1 00:00:00' DAY TO SECOND        |\n",
            "|Avenida Fernando Pessoa/Rua Corsario das Ilhas                                                     |INTERVAL '13 18:00:00' DAY TO SECOND       |\n",
            "|Bairro Padre Cruz                                                                                  |INTERVAL '1 00:00:00' DAY TO SECOND        |\n",
            "|Rua Filipe Folque,65                                                                               |INTERVAL '0 00:00:00' DAY TO SECOND        |\n",
            "|Praça das Amoreiras,34-38                                                                          |INTERVAL '10 00:00:00' DAY TO SECOND       |\n",
            "|Avenida 24 de Julho, nº 68-F                                                                       |INTERVAL '14 00:00:00' DAY TO SECOND       |\n",
            "|Eixo Central                                                                                       |INTERVAL '1 00:00:00' DAY TO SECOND        |\n",
            "|Av. Gen. Norton Matos lado norte, Campo Grande                                                     |INTERVAL '1 00:00:00' DAY TO SECOND        |\n",
            "|Rua Eduardo Malta {traseiras do Edifício Pórtico}                                                  |INTERVAL '1 00:00:00' DAY TO SECOND        |\n",
            "|Rua Almeida Brandão,1                                                                              |INTERVAL '6 12:00:00' DAY TO SECOND        |\n",
            "|Estação Fluvial- Cais do Sodré                                                                     |INTERVAL '0 00:00:00' DAY TO SECOND        |\n",
            "|Rua das Escolas Gerais, nº 82                                                                      |INTERVAL '0 00:00:00' DAY TO SECOND        |\n",
            "|Rua de São José,169-175                                                                            |INTERVAL '14 00:00:00' DAY TO SECOND       |\n",
            "|Avenida Marechal Gomes da Costa, acesso secundários nas traseiras, pela Praça Cidade de Dili.      |INTERVAL '14 00:00:00' DAY TO SECOND       |\n",
            "|RUA DO TELHAL,74                                                                                   |INTERVAL '0 00:00:00' DAY TO SECOND        |\n",
            "|Rua Francisco de Holanda                                                                           |INTERVAL '8 12:00:00' DAY TO SECOND        |\n",
            "|Largo da Graça                                                                                     |INTERVAL '0 00:00:00' DAY TO SECOND        |\n",
            "|Rua das Trinas nº 61                                                                               |INTERVAL '11 00:00:00' DAY TO SECOND       |\n",
            "|Calçada de Dom Gastão, nº 28                                                                       |INTERVAL '14 00:00:00' DAY TO SECOND       |\n",
            "|Avenida Júlio Dinis, 5,7                                                                           |INTERVAL '14 00:00:00' DAY TO SECOND       |\n",
            "|Rua Pero da Covilhã 14                                                                             |INTERVAL '0 00:00:00' DAY TO SECOND        |\n",
            "|Rua de São Paulo, nº 104-110                                                                       |INTERVAL '14 00:00:00' DAY TO SECOND       |\n",
            "|Rua do Desterro, nº 17-23                                                                          |INTERVAL '2 00:00:00' DAY TO SECOND        |\n",
            "|Calçada do Monte e Rua Damasceno Monteiro                                                          |INTERVAL '1 00:00:00' DAY TO SECOND        |\n",
            "|Travessa do Jasmim,6/Rua Jasmim,25 e 13 e 23 {Estacionamento}                                      |INTERVAL '3 00:00:00' DAY TO SECOND        |\n",
            "|Avenida António Augusto de Aguiar,104 {descargas}                                                  |INTERVAL '2 00:00:00' DAY TO SECOND        |\n",
            "|Rua Álvaro Coutinho                                                                                |INTERVAL '18 00:00:00' DAY TO SECOND       |\n",
            "|Rua Cruzes da Sé                                                                                   |INTERVAL '106 00:00:00' DAY TO SECOND      |\n",
            "|Calçada do Ferragial,19                                                                            |INTERVAL '5 00:00:00' DAY TO SECOND        |\n",
            "|Praça Paiva Couceiro                                                                               |INTERVAL '20 03:00:00' DAY TO SECOND       |\n",
            "|Avenida do Brasil, 90-C                                                                            |INTERVAL '3 00:00:00' DAY TO SECOND        |\n",
            "|Rua do Arsenal, 116-132 | Travessa Ferragial, 6-14 | Travessa do Cotovelo, 2-4                     |INTERVAL '14 00:00:00' DAY TO SECOND       |\n",
            "|Rua Rogério de Moura, desde a Rua Raul Rego e Rua Tito de Morais, até Avenida Sérgio Vieira de Melo|INTERVAL '7 00:00:00' DAY TO SECOND        |\n",
            "|Rua de Moçambique, 23-23B| Rua de Angola, 1                                                        |INTERVAL '9 00:00:00' DAY TO SECOND        |\n",
            "|Avenida Visconde Valmor nº 11                                                                      |INTERVAL '1 00:00:00' DAY TO SECOND        |\n",
            "|Centro Comercial Fonte Nova                                                                        |INTERVAL '7 00:00:00' DAY TO SECOND        |\n",
            "|Travessa do Sacramento a Alcântara,6-6D/Travessa do Carmo,3-3-A                                    |INTERVAL '14 04:48:00' DAY TO SECOND       |\n",
            "+---------------------------------------------------------------------------------------------------+-------------------------------------------+\n",
            "only showing top 50 rows\n",
            "\n"
          ]
        }
      ],
      "source": [
        "DMorada.show(50, truncate = False)"
      ]
    },
    {
      "cell_type": "code",
      "execution_count": null,
      "id": "de088b8d-a744-4d4c-8f14-7726c90b3196",
      "metadata": {
        "id": "de088b8d-a744-4d4c-8f14-7726c90b3196",
        "outputId": "481d596a-473f-4a5b-ce67-3c70df99f8be"
      },
      "outputs": [
        {
          "name": "stdout",
          "output_type": "stream",
          "text": [
            "+-------+---------------+--------------------+--------------------+--------------------+-------------------+------------+\n",
            "|summary|        impacto|restricao_circulacao|              morada|              motivo|      creation_date|Data_Termino|\n",
            "+-------+---------------+--------------------+--------------------+--------------------+-------------------+------------+\n",
            "|  count|           9749|                9749|                9749|                9749|               9749|        9749|\n",
            "|   mean|           NULL|                NULL|        5.06164659E8|                NULL|               NULL|        NULL|\n",
            "| stddev|           NULL|                NULL|                NULL|                NULL|               NULL|        NULL|\n",
            "|    min|Pouco relevante|   Corte num sentido|    Av. Cidade de...|ACESSO DE VEÍCULO...|         2000-01-01|  2000-01-01|\n",
            "|    max|      Relevante|             Passeio|Área delimitada p...|        desconhecido|2021-08-31 18:36:46|  2026-07-20|\n",
            "+-------+---------------+--------------------+--------------------+--------------------+-------------------+------------+\n",
            "\n"
          ]
        }
      ],
      "source": [
        "df_filtrado.describe().show()"
      ]
    },
    {
      "cell_type": "code",
      "execution_count": null,
      "id": "8b084ede-3c5a-4d49-9990-e49aeed12d12",
      "metadata": {
        "id": "8b084ede-3c5a-4d49-9990-e49aeed12d12"
      },
      "outputs": [],
      "source": [
        "# MEDIA DE"
      ]
    }
  ],
  "metadata": {
    "kernelspec": {
      "display_name": "Python 3 (ipykernel)",
      "language": "python",
      "name": "python3"
    },
    "language_info": {
      "codemirror_mode": {
        "name": "ipython",
        "version": 3
      },
      "file_extension": ".py",
      "mimetype": "text/x-python",
      "name": "python",
      "nbconvert_exporter": "python",
      "pygments_lexer": "ipython3",
      "version": "3.11.7"
    },
    "colab": {
      "provenance": [],
      "include_colab_link": true
    }
  },
  "nbformat": 4,
  "nbformat_minor": 5
}